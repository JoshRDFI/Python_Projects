{
 "cells": [
  {
   "cell_type": "markdown",
   "id": "44c3420c",
   "metadata": {},
   "source": [
    "### Python coding challenges from Udemy course Python Bible"
   ]
  },
  {
   "cell_type": "markdown",
   "id": "61ba61c1",
   "metadata": {},
   "source": [
    "Much of this course is review for me, but repeating the basics is always good. Especially when working towards mastery of the language. "
   ]
  },
  {
   "cell_type": "code",
   "execution_count": 1,
   "id": "c86f541d",
   "metadata": {},
   "outputs": [],
   "source": [
    "hello = \"Hello World!\""
   ]
  },
  {
   "cell_type": "code",
   "execution_count": 2,
   "id": "860ea936",
   "metadata": {},
   "outputs": [
    {
     "name": "stdout",
     "output_type": "stream",
     "text": [
      "Hello World!\n"
     ]
    }
   ],
   "source": [
    "print(hello)"
   ]
  },
  {
   "cell_type": "markdown",
   "id": "76fe0e77",
   "metadata": {},
   "source": [
    "Hello You program"
   ]
  },
  {
   "cell_type": "code",
   "execution_count": 5,
   "id": "eda7e2ff",
   "metadata": {},
   "outputs": [
    {
     "name": "stdout",
     "output_type": "stream",
     "text": [
      "What is your name?: Bob\n",
      "How old are you?: 32\n",
      "What city do you live in?: Mozambique\n",
      "What is something you enjoy doing?: Flying\n",
      "Hello Bob! I see you live in Mozambique. It seems you are 32 years old and enjoy Flying.\n"
     ]
    }
   ],
   "source": [
    "# Ask user for their name\n",
    "name = input(\"What is your name?: \")\n",
    "\n",
    "# Ask user for their age\n",
    "age = input(\"How old are you?: \")\n",
    "\n",
    "# Ask user for city they live in\n",
    "city = input(\"What city do you live in?: \")\n",
    "\n",
    "# Ask user what they enjoy\n",
    "enjoy = input(\"What is something you enjoy doing?: \")\n",
    "\n",
    "# Create output text\n",
    "output = \"Hello {}! I see you live in {}. It seems you are {} years old and enjoy {}.\".format(name, city, age, enjoy)\n",
    "\n",
    "# Print output to screen\n",
    "print(output)\n"
   ]
  },
  {
   "cell_type": "code",
   "execution_count": null,
   "id": "c77b98b2",
   "metadata": {},
   "outputs": [],
   "source": []
  },
  {
   "cell_type": "code",
   "execution_count": null,
   "id": "1f20b550",
   "metadata": {},
   "outputs": [],
   "source": []
  },
  {
   "cell_type": "code",
   "execution_count": null,
   "id": "1f64d1cc",
   "metadata": {},
   "outputs": [],
   "source": []
  },
  {
   "cell_type": "code",
   "execution_count": null,
   "id": "b59da994",
   "metadata": {},
   "outputs": [],
   "source": []
  }
 ],
 "metadata": {
  "kernelspec": {
   "display_name": "Python 3 (ipykernel)",
   "language": "python",
   "name": "python3"
  },
  "language_info": {
   "codemirror_mode": {
    "name": "ipython",
    "version": 3
   },
   "file_extension": ".py",
   "mimetype": "text/x-python",
   "name": "python",
   "nbconvert_exporter": "python",
   "pygments_lexer": "ipython3",
   "version": "3.9.15"
  }
 },
 "nbformat": 4,
 "nbformat_minor": 5
}
